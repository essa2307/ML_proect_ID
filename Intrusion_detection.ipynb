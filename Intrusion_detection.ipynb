{
 "cells": [
  {
   "cell_type": "markdown",
   "metadata": {},
   "source": [
    "Loading all the required packages"
   ]
  },
  {
   "cell_type": "code",
   "execution_count": 1,
   "metadata": {},
   "outputs": [],
   "source": [
    "import pandas as pd\n",
    "import numpy as np\n",
    "import matplotlib\n",
    "import matplotlib.pyplot as plt\n",
    "from sklearn import linear_model, preprocessing\n"
   ]
  },
  {
   "cell_type": "markdown",
   "metadata": {},
   "source": [
    "Loading the data with proper column names"
   ]
  },
  {
   "cell_type": "code",
   "execution_count": 2,
   "metadata": {},
   "outputs": [
    {
     "name": "stdout",
     "output_type": "stream",
     "text": [
      "   address  function  length  setpoint   gain  reset rate  deadband  \\\n",
      "0        4         3      16       NaN    NaN         NaN       NaN   \n",
      "1        4         3      46       NaN    NaN         NaN       NaN   \n",
      "2        4        16      90      10.0  115.0         0.2       0.5   \n",
      "3        4        16      16       NaN    NaN         NaN       NaN   \n",
      "4        4         3      16       NaN    NaN         NaN       NaN   \n",
      "5        4         3      46       NaN    NaN         NaN       NaN   \n",
      "\n",
      "   cycle time  rate  system mode  control scheme  pump  solenoid  \\\n",
      "0         NaN   NaN          NaN             NaN   NaN       NaN   \n",
      "1         NaN   NaN          NaN             NaN   NaN       NaN   \n",
      "2         1.0   0.0          0.0             1.0   0.0       0.0   \n",
      "3         NaN   NaN          NaN             NaN   NaN       NaN   \n",
      "4         NaN   NaN          NaN             NaN   NaN       NaN   \n",
      "5         NaN   NaN          NaN             NaN   NaN       NaN   \n",
      "\n",
      "   pressure measurement  crc rate  command response        time  \\\n",
      "0                   NaN     12869                 1  1418682163   \n",
      "1              0.689655     12356                 0  1418682163   \n",
      "2                   NaN     17219                 1  1418682165   \n",
      "3                   NaN     17718                 0  1418682165   \n",
      "4                   NaN     12869                 1  1418682167   \n",
      "5              0.666667     14393                 0  1418682167   \n",
      "\n",
      "   binary result  categorized result  specific result  \n",
      "0              0                   0                0  \n",
      "1              0                   0                0  \n",
      "2              0                   0                0  \n",
      "3              0                   0                0  \n",
      "4              0                   0                0  \n",
      "5              0                   0                0  \n"
     ]
    }
   ],
   "source": [
    "names = ['address','function', 'length', 'setpoint', 'gain', 'reset rate', 'deadband', 'cycle time', 'rate', 'system mode', 'control scheme', 'pump', 'solenoid','pressure measurement','crc rate','command response','time','binary result','categorized result','specific result' ]\n",
    "df = pd.read_csv('C:/Users/userlocal/Desktop/PhD/Courses/Machine_Learning/IntrusionDetection/Datasets/gas_pipeline.csv',names=names,na_values='?',index_col=None)\n",
    "#df = df.dropna()\n",
    "#data=np.array(df)\n",
    "\n",
    "\n",
    "print (df.head(6))\n"
   ]
  },
  {
   "cell_type": "markdown",
   "metadata": {},
   "source": [
    "Data Manipulation"
   ]
  },
  {
   "cell_type": "code",
   "execution_count": 3,
   "metadata": {},
   "outputs": [
    {
     "name": "stdout",
     "output_type": "stream",
     "text": [
      "(64100, 14) (64100, 2) (68848, 5) (68848, 2)\n"
     ]
    }
   ],
   "source": [
    "df1=df.sort_values(by=['command response'])\n",
    "cr_col=np.array(df1['command response'])\n",
    "indices=np.where(cr_col==1)\n",
    "splitter=indices[0][0]\n",
    "\n",
    "df_res,df_com=df1.head(splitter),df1.tail(len(df1)-splitter)\n",
    "#print (df_res.head(6))\n",
    "#print (splitter)\n",
    "df_temp=df_com[['address','function', 'length', 'setpoint', 'gain', 'reset rate', 'deadband', 'cycle time', 'rate', 'system mode', 'control scheme', 'pump', 'solenoid','crc rate','binary result','categorized result']].dropna()\n",
    "\n",
    "df_temp1=df_temp[['address','function', 'length', 'setpoint', 'gain', 'reset rate', 'deadband', 'cycle time', 'rate', 'system mode', 'control scheme', 'pump', 'solenoid','crc rate']]\n",
    "df_temp2=df_temp[['binary result','categorized result']]\n",
    "input_com=np.array(df_temp1)\n",
    "output_com=np.array(df_temp2)\n",
    "\n",
    "\n",
    "df_temp=df_res[['address','function', 'length', 'pressure measurement','crc rate','binary result','categorized result']].dropna(axis=0, how='any')\n",
    "#df_temp=df_temp.dropna(axis=0, how='any')\n",
    "\n",
    "df_temp1=df_temp[['address','function', 'length', 'pressure measurement','crc rate']]\n",
    "df_temp2=df_temp[['binary result','categorized result']]\n",
    "input_res=np.array(df_temp1)\n",
    "output_res=np.array(df_temp2)\n",
    "\n",
    "#print (df_temp)\n",
    "print (input_com.shape, output_com.shape, input_res.shape, output_res.shape)\n",
    "#df_temp.isnull()\n",
    "\n",
    "#input1=np.array(input)\n",
    "#output=df[['binary result','categorized result']]\n",
    "#print (input)"
   ]
  },
  {
   "cell_type": "markdown",
   "metadata": {},
   "source": [
    "Dividing Datasets"
   ]
  },
  {
   "cell_type": "code",
   "execution_count": null,
   "metadata": {},
   "outputs": [],
   "source": []
  },
  {
   "cell_type": "code",
   "execution_count": 10,
   "metadata": {},
   "outputs": [
    {
     "name": "stdout",
     "output_type": "stream",
     "text": [
      "(32050, 14) (32050,)\n",
      "Accuracy on training data = 0.807800312012\n",
      "[0.80773790951638069, 0.80773790951638069, 0.80780031201248048, 0.80773790951638069, 0.80780031201248048]\n"
     ]
    },
    {
     "data": {
      "image/png": "[encoded data removed]",
      "text/plain": [
       "<matplotlib.figure.Figure at 0x20aa2c785f8>"
      ]
     },
     "metadata": {},
     "output_type": "display_data"
    }
   ],
   "source": [
    "\n",
    "\n",
    "## Dividing the dataset for command type packets\n",
    "\n",
    "ntr1 = int(input_com.shape[0]/2)\n",
    "nts1 = input_com.shape[0]-ntr1\n",
    "Xtr1 = input_com[:ntr1,:]\n",
    "ytr1 = output_com[:ntr1,1]\n",
    "Xts1 = input_com[:nts1,:]\n",
    "yts1 = output_com[:nts1,1]\n",
    "print (Xtr1.shape,ytr1.shape)\n",
    "\n",
    "#Trying logistic regression\n",
    "logreg = linear_model.LogisticRegression()\n",
    "logreg.fit(Xtr1,ytr1)\n",
    "yhat = logreg.predict(Xts1)\n",
    "acc = np.mean(yhat == yts1)\n",
    "#print (input_com[0]==input_com[32051])\n",
    "print(\"Accuracy on training data =\", acc)\n",
    "Cs=np.logspace(5,10,5)\n",
    "acc_list=[]\n",
    "for C_element in Cs:\n",
    "    #print (C_element)\n",
    "    logreg = linear_model.LogisticRegression(C=C_element)\n",
    "    logreg.fit(Xtr1,ytr1)\n",
    "    yhat = logreg.predict(Xts1)\n",
    "    acc_list.append(np.mean(yhat == yts1))\n",
    "print (acc_list)\n",
    "plt.plot(Cs,acc_list)\n",
    "plt.xlabel('C')\n",
    "plt.ylabel('Accuracy')\n",
    "plt.show()"
   ]
  },
  {
   "cell_type": "code",
   "execution_count": 5,
   "metadata": {},
   "outputs": [
    {
     "name": "stdout",
     "output_type": "stream",
     "text": [
      "[LibSVM]"
     ]
    },
    {
     "data": {
      "text/plain": [
       "SVC(C=5, cache_size=200, class_weight=None, coef0=0.0,\n",
       "  decision_function_shape='ovr', degree=3, gamma=0.09, kernel='rbf',\n",
       "  max_iter=-1, probability=False, random_state=None, shrinking=True,\n",
       "  tol=0.001, verbose=10)"
      ]
     },
     "execution_count": 5,
     "metadata": {},
     "output_type": "execute_result"
    }
   ],
   "source": [
    "from sklearn import svm\n",
    "\n",
    "# Create a classifier: a support vector classifier\n",
    "svc = svm.SVC(probability=False, C=5, gamma=.09,verbose=10)\n",
    "svc.fit(Xtr1,ytr1)"
   ]
  },
  {
   "cell_type": "code",
   "execution_count": 97,
   "metadata": {},
   "outputs": [
    {
     "name": "stdout",
     "output_type": "stream",
     "text": [
      "Accuaracy = 0.988736\n"
     ]
    }
   ],
   "source": [
    "yhat_ts = svc.predict(Xts1)\n",
    "acc = np.mean(yhat_ts == yts1)\n",
    "print('Accuaracy = {0:f}'.format(acc))"
   ]
  },
  {
   "cell_type": "code",
   "execution_count": null,
   "metadata": {},
   "outputs": [],
   "source": []
  }
 ],
 "metadata": {
  "kernelspec": {
   "display_name": "Python 3",
   "language": "python",
   "name": "python3"
  },
  "language_info": {
   "codemirror_mode": {
    "name": "ipython",
    "version": 3
   },
   "file_extension": ".py",
   "mimetype": "text/x-python",
   "name": "python",
   "nbconvert_exporter": "python",
   "pygments_lexer": "ipython3",
   "version": "3.5.4"
  }
 },
 "nbformat": 4,
 "nbformat_minor": 2
}
